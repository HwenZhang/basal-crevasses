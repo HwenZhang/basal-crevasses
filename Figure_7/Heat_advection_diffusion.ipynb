{
 "cells": [
  {
   "cell_type": "code",
   "execution_count": 41,
   "id": "07e81f83",
   "metadata": {},
   "outputs": [],
   "source": [
    "import numpy as np\n",
    "import matplotlib as mpl\n",
    "import matplotlib.pyplot as plt\n",
    "from matplotlib.animation import FuncAnimation\n",
    "import math\n",
    "\n",
    "# Dimensional parameters\n",
    "# half length of strip\n",
    "L = 1000.0 # (m)\n",
    "# half width of sticky patch\n",
    "s = 100.0 # (m)\n",
    "\n",
    "# thickness of basal crevasse\n",
    "W = 0.1 # (m)\n",
    "# ice thickeness\n",
    "H = 100.0 # (m)\n",
    "# crack length\n",
    "Zc = 50.0 # (m)\n",
    "\n",
    "# density of w-water i-ice\n",
    "rho_w = 1000 # (kg/m^3)\n",
    "rho_i = 917 # (kg/m^3)\n",
    "# gravitational acceleration\n",
    "g = 9.8 # (m/s^2)\n",
    "\n",
    "# physical properties\n",
    "# latent heat\n",
    "Lw = 3.335e5 #(J/kg)\n",
    "# heat capacity\n",
    "Cp = 2097 #(J/kg/K)\n",
    "# thermal diffusity\n",
    "kappa = 1.09e-6 # m^2/s\n",
    "\n",
    "# characteristic sliding velocity\n",
    "v_sliding_y = 100 # m*a-1\n",
    "v_s = v_sliding_y / (365*24*3600) # sliding velocity in m/s\n",
    "Delta_ty = s / v_sliding_y # year\n",
    "Delta_t = Delta_ty * (365*24*3600)\n",
    "# line heat source\n",
    "qi = rho_i*Lw*W\n",
    "Ti = qi/rho_i/Cp\n",
    "pi=math.pi"
   ]
  },
  {
   "cell_type": "code",
   "execution_count": 42,
   "id": "81787f05",
   "metadata": {},
   "outputs": [],
   "source": [
    "def greensx(x,t):\n",
    "    return 1/(2*np.sqrt(kappa*pi*t))*np.exp(-x**2/(4*kappa*t))\n",
    "def greensn(z,t,n):\n",
    "    return 1/n*np.sin(n*pi*z/H)*np.exp(-kappa*n*n*pi*pi*t/(H**2))*(1-np.cos(n*pi*Zc/H))\n",
    "def greensz(z,t):\n",
    "    sun_n_old=0\n",
    "    sum_n_new=0\n",
    "    for i in range(1,11):\n",
    "        sum_n_old = sum_n_new\n",
    "        sum_n_new = sum_n_old + greensn(z,t,i)\n",
    "    return 2/(pi)*sum_n_new\n",
    "def greens(x,z,t,n):\n",
    "    return Ti*greensx(x-n*s,t+n*Delta_t)*greensz(z,t+n*Delta_t)\n",
    "\n",
    "# function to cumpute T_net\n",
    "def T_net(x,z,t,num):\n",
    "    T_sum = 0\n",
    "    for n in range(num):\n",
    "        T_sum += T_sum + greens(x,z,t,n)\n",
    "    return T_sum"
   ]
  },
  {
   "cell_type": "code",
   "execution_count": 43,
   "id": "9b03c5ba",
   "metadata": {},
   "outputs": [],
   "source": [
    "# time range\n",
    "year_start = 40\n",
    "year_end = 80\n",
    "tstp = 1\n",
    "vt_y = np.arange(year_start,year_end + tstp,tstp)\n",
    "vt = 365*24*3600*vt_y\n",
    "# vt = 365*24*3600*np.arange(year,year + tstp/2,tstp)\n",
    "nt = np.shape(vt)[0]\n",
    "\n",
    "nx, nz = (500, 50)\n",
    "xl=2*L\n",
    "xr=3*L\n",
    "x = np.linspace(xl, xr, nx+1)\n",
    "xstp = x[1]-x[0]\n",
    "z = np.linspace(0, H, nz+1)\n",
    "zstp = z[1]-z[0]\n",
    "\n",
    "xT = np.linspace(xl+0.5*xstp, xr-0.5*xstp, nx)\n",
    "zT = np.linspace(0+0.5*zstp, H-0.5*xstp, nz)\n",
    "\n",
    "dTx = np.zeros((nx))\n",
    "dTz = np.zeros((nz))\n",
    "dT = np.zeros((nz,nx,nt))"
   ]
  },
  {
   "cell_type": "code",
   "execution_count": 44,
   "id": "8dc8106f",
   "metadata": {},
   "outputs": [
    {
     "name": "stdout",
     "output_type": "stream",
     "text": [
      "0 40\n",
      "1 41\n",
      "2 42\n",
      "3 43\n",
      "4 44\n",
      "5 45\n",
      "6 46\n",
      "7 47\n",
      "8 48\n",
      "9 49\n",
      "10 50\n",
      "11 51\n",
      "12 52\n",
      "13 53\n",
      "14 54\n",
      "15 55\n",
      "16 56\n",
      "17 57\n",
      "18 58\n",
      "19 59\n",
      "20 60\n",
      "21 61\n",
      "22 62\n",
      "23 63\n",
      "24 64\n",
      "25 65\n",
      "26 66\n",
      "27 67\n",
      "28 68\n",
      "29 69\n",
      "30 70\n",
      "31 71\n",
      "32 72\n",
      "33 73\n",
      "34 74\n",
      "35 75\n",
      "36 76\n",
      "37 77\n",
      "38 78\n",
      "39 79\n",
      "40 80\n"
     ]
    }
   ],
   "source": [
    "# Thermal conduction in x,z-direction\n",
    "for it,time in enumerate(vt):\n",
    "    num_crack = math.ceil(vt_y[it] / Delta_ty)\n",
    "    print(it,num_crack)\n",
    "    for nindex in range(num_crack):\n",
    "        t_init = nindex*Delta_t\n",
    "        xprime = v_s*(time-t_init)\n",
    "        for ix,xcoord in enumerate(xT):\n",
    "            dTx[ix] = greensx(xcoord-xprime,time-t_init)\n",
    "        for iz,zcoord in enumerate(zT):\n",
    "            dTz[iz] = greensz(zcoord,time-t_init)\n",
    "        for ix,xcoord in enumerate(xT):\n",
    "            for iz,zcoord in enumerate(zT):\n",
    "                dT[iz,ix,it] += Ti*dTx[ix]*dTz[iz]"
   ]
  },
  {
   "cell_type": "code",
   "execution_count": 45,
   "id": "02c32709",
   "metadata": {},
   "outputs": [
    {
     "data": {
      "image/png": "[encoded data removed]",
      "text/plain": [
       "<Figure size 1440x864 with 2 Axes>"
      ]
     },
     "metadata": {
      "needs_background": "light"
     },
     "output_type": "display_data"
    }
   ],
   "source": [
    "# Create new Figure and an Axes which fills it.\n",
    "from mpl_toolkits.axes_grid1 import make_axes_locatable\n",
    "plt.rc('font', family='serif')\n",
    "mpl.rcParams[\"mathtext.fontset\"]='cm'\n",
    "plt.rcParams['figure.figsize'] = (20.0, 12.0)\n",
    "fs=18\n",
    "fs_label=22\n",
    "\n",
    "# time \n",
    "it=40\n",
    "dT_current = dT[:,:,it]\n",
    "\n",
    "fig, ax1 = plt.subplots()\n",
    "plt.rc('xtick', labelsize=fs)\n",
    "plt.rc('ytick', labelsize=fs)\n",
    "plt.rc('axes', labelsize=fs)\n",
    "\n",
    "ax1 = plt.gca()\n",
    "# ax1.set_xlabel(r'$x$',fontsize=22)\n",
    "ax1.set_ylabel(r'$z(m)$ ',rotation=0,fontsize=fs_label,loc='center')\n",
    "ax1.set_xlabel(r'$x(km)$ ',rotation=0,fontsize=fs_label,loc='center')\n",
    "ax1.set_xlim([xl, xr])\n",
    "ax1.set_ylim([0, H])\n",
    "ax1.set_xticks([3000,3200,3400,3600,3800,4000])\n",
    "ax1.set_xticklabels(('3.0', '3.2', '3.4', '3.6', '3.8','4.0'))\n",
    "ax1.set_aspect('equal')\n",
    "ax1.yaxis.set_label_coords(-0.06, 0.35)\n",
    "\n",
    "# plt.title(r'$\\sigma_{xx}$ when $w=1$, $c=0.5$, $f=0.7$', fontsize=16, color='k')\n",
    "#time_template = 'time = %.1fy'\n",
    "#time_text = ax1.text(0.02, 0.75, time_template % (vt_y[it]), transform=ax1.transAxes, color='w',fontsize=18)\n",
    "#time_text.set_text(time_template % (vt_y[it]))\n",
    "# text=ax1.annotate(r'$t=$'+str(round(vt_y[it],2))+' y', xy=(0.05, 0.75), xycoords='axes fraction',fontsize=18,color='w')\n",
    "\n",
    "# temperature\n",
    "norm = mpl.colors.Normalize(vmin=0, vmax=0.1)\n",
    "cmap = mpl.cm.magma\n",
    "temperature = ax1.pcolormesh(x,z,dT_current,shading='flat',cmap=cmap,norm=norm) # plot the pcolor\n",
    "\n",
    "divider = make_axes_locatable(ax1)\n",
    "cax = divider.append_axes(\"right\", size=\"2.5%\", pad=0.05)\n",
    "cbar = plt.colorbar(mpl.cm.ScalarMappable(norm=norm, cmap=cmap), cax=cax, format=\"%2.2f\")\n",
    "cbar.set_label(r'$\\Delta T (K)$ ',loc='center',rotation=0,labelpad=40,fontsize=18)\n",
    "\n",
    "plt.savefig('Heat_adv_diffusion'+'.png', bbox_inches='tight', dpi=100)"
   ]
  },
  {
   "cell_type": "code",
   "execution_count": 46,
   "id": "d854fd0d",
   "metadata": {},
   "outputs": [],
   "source": [
    "#def update(tindex):\n",
    "#    dT_current=dT[:,:,tindex]  \n",
    "#    # temperature\n",
    "#    temperature = ax1.pcolormesh(x,z,dT_current,shading='flat',cmap=cmap,norm=norm) # plot the pcolor\n",
    "#    time_text.set_text(time_template % (vt_y[tindex]))\n",
    "#    return time_text\n",
    "#    \n",
    "## Construct the animation, using the update function as the animation director.\n",
    "#dpi=200\n",
    "#animation = FuncAnimation(fig, update, 40, interval=100)\n",
    "#vanimation.save(filename='movie.mp4',dpi=dpi)\n",
    "#plt.show()"
   ]
  },
  {
   "cell_type": "code",
   "execution_count": 50,
   "id": "648792d1",
   "metadata": {
    "scrolled": true
   },
   "outputs": [
    {
     "data": {
      "image/png": "[encoded data removed]",
      "text/plain": [
       "<Figure size 1440x864 with 2 Axes>"
      ]
     },
     "metadata": {
      "needs_background": "light"
     },
     "output_type": "display_data"
    }
   ],
   "source": [
    "# Create new Figure and an Axes which fills it.\n",
    "from mpl_toolkits.axes_grid1 import make_axes_locatable\n",
    "plt.rc('font', family='serif')\n",
    "mpl.rcParams[\"mathtext.fontset\"]='cm'\n",
    "plt.rcParams['figure.figsize'] = (20.0, 12.0)\n",
    "fs=18\n",
    "fs_label=22\n",
    "\n",
    "# time \n",
    "it=40\n",
    "dT_current = dT[:,:,it]\n",
    "\n",
    "fig, ax1 = plt.subplots()\n",
    "plt.rc('xtick', labelsize=fs)\n",
    "plt.rc('ytick', labelsize=fs)\n",
    "plt.rc('axes', labelsize=fs)\n",
    "\n",
    "ax1 = plt.gca()\n",
    "# ax1.set_xlabel(r'$x$',fontsize=22)\n",
    "ax1.set_ylabel(r'$z(m)$ ',rotation=0,fontsize=fs_label,loc='center')\n",
    "ax1.set_xlabel(r'$x(km)$ ',rotation=0,fontsize=fs_label,loc='center')\n",
    "ax1.set_xlim([xl, xr])\n",
    "ax1.set_ylim([0, H])\n",
    "ax1.set_xticks([2000,2200,2400,2600,2800,3000])\n",
    "ax1.set_xticklabels(('2.0', '2.2', '2.4', '2.6', '2.8','3.0'))\n",
    "ax1.set_aspect('equal')\n",
    "ax1.yaxis.set_label_coords(-0.06, 0.35)\n",
    "\n",
    "# plt.title(r'$\\sigma_{xx}$ when $w=1$, $c=0.5$, $f=0.7$', fontsize=16, color='k')\n",
    "#time_template = 'time = %.1fy'\n",
    "#time_text = ax1.text(0.02, 0.75, time_template % (vt_y[it]), transform=ax1.transAxes, color='w',fontsize=18)\n",
    "#time_text.set_text(time_template % (vt_y[it]))\n",
    "# text=ax1.annotate(r'$t=$'+str(round(vt_y[it],2))+' y', xy=(0.05, 0.75), xycoords='axes fraction',fontsize=18,color='w')\n",
    "\n",
    "# temperature\n",
    "norm = mpl.colors.Normalize(vmin=0, vmax=0.1)\n",
    "cmap = mpl.cm.magma\n",
    "temperature = ax1.pcolormesh(x,z,dT_current,shading='flat',cmap=cmap,norm=norm) # plot the pcolor\n",
    "\n",
    "divider = make_axes_locatable(ax1)\n",
    "cax = divider.append_axes(\"right\", size=\"2.5%\", pad=0.05)\n",
    "cbar = plt.colorbar(mpl.cm.ScalarMappable(norm=norm, cmap=cmap), cax=cax, format=\"%2.2f\")\n",
    "cbar.set_label(r'$\\Delta T (K)$ ',loc='center',rotation=0,labelpad=40,fontsize=18)\n",
    "\n",
    "plt.savefig('Heat_adv_diffusion'+'.png', bbox_inches='tight', dpi=100)"
   ]
  },
  {
   "cell_type": "code",
   "execution_count": null,
   "id": "8e5c053d",
   "metadata": {},
   "outputs": [],
   "source": [
    "time_template % (vt_y[it])"
   ]
  },
  {
   "cell_type": "code",
   "execution_count": null,
   "id": "36d7cfb8",
   "metadata": {},
   "outputs": [],
   "source": [
    "vt"
   ]
  },
  {
   "cell_type": "code",
   "execution_count": null,
   "id": "4e9bd4d1",
   "metadata": {},
   "outputs": [],
   "source": [
    "vt[10]"
   ]
  },
  {
   "cell_type": "code",
   "execution_count": null,
   "id": "e61d88bd",
   "metadata": {},
   "outputs": [],
   "source": []
  }
 ],
 "metadata": {
  "kernelspec": {
   "display_name": "Python 3",
   "language": "python",
   "name": "python3"
  },
  "language_info": {
   "codemirror_mode": {
    "name": "ipython",
    "version": 3
   },
   "file_extension": ".py",
   "mimetype": "text/x-python",
   "name": "python",
   "nbconvert_exporter": "python",
   "pygments_lexer": "ipython3",
   "version": "3.8.8"
  }
 },
 "nbformat": 4,
 "nbformat_minor": 5
}
